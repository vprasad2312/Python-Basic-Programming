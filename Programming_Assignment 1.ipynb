{
 "cells": [
  {
   "cell_type": "markdown",
   "id": "c648e780",
   "metadata": {},
   "source": [
    "1.\tWrite a Python program to print \"Hello Python\"?"
   ]
  },
  {
   "cell_type": "code",
   "execution_count": 3,
   "id": "1ddb0f46",
   "metadata": {},
   "outputs": [
    {
     "name": "stdout",
     "output_type": "stream",
     "text": [
      "Hello World\n"
     ]
    }
   ],
   "source": [
    "print(\"Hello World\")"
   ]
  },
  {
   "cell_type": "markdown",
   "id": "ea4fdc2c",
   "metadata": {},
   "source": [
    "2.\tWrite a Python program to do arithmetical operations addition and division.?"
   ]
  },
  {
   "cell_type": "code",
   "execution_count": 4,
   "id": "a0cdab77",
   "metadata": {},
   "outputs": [
    {
     "name": "stdout",
     "output_type": "stream",
     "text": [
      "47.5\n"
     ]
    }
   ],
   "source": [
    "x= 5+25+35/2\n",
    "print(x)"
   ]
  },
  {
   "cell_type": "markdown",
   "id": "d4f7df5d",
   "metadata": {},
   "source": [
    "3.\tWrite a Python program to find the area of a triangle?"
   ]
  },
  {
   "cell_type": "code",
   "execution_count": 15,
   "id": "48912b74",
   "metadata": {},
   "outputs": [
    {
     "name": "stdout",
     "output_type": "stream",
     "text": [
      "Insert the base value:25\n",
      "Insert the height value:50\n",
      "Area of Triangle = 625.0\n"
     ]
    }
   ],
   "source": [
    "b=int(input(\"Insert the base value:\"))\n",
    "h=int(input(\"Insert the height value:\"))\n",
    "def areaoftriangle(b,h):\n",
    "   print(\"Area of Triangle =\" ,0.5*b*h)\n",
    "   \n",
    "areaoftriangle(25,50)\n",
    "   "
   ]
  },
  {
   "cell_type": "markdown",
   "id": "25ff1e9a",
   "metadata": {},
   "source": [
    "4.Write a Python program to swap two variables ?"
   ]
  },
  {
   "cell_type": "code",
   "execution_count": 17,
   "id": "fd58dc0b",
   "metadata": {},
   "outputs": [
    {
     "name": "stdout",
     "output_type": "stream",
     "text": [
      "value of x: 50\n",
      "value of y: 10\n"
     ]
    }
   ],
   "source": [
    "x=10\n",
    "y= 50\n",
    "\n",
    "x,y=y,x\n",
    "\n",
    "print(\"value of x:\",x)\n",
    "print(\"value of y:\", y)"
   ]
  },
  {
   "cell_type": "markdown",
   "id": "ecb4982d",
   "metadata": {},
   "source": [
    "5.Write a Python program to generate a random number ?"
   ]
  },
  {
   "cell_type": "code",
   "execution_count": 21,
   "id": "fd6f1f78",
   "metadata": {},
   "outputs": [],
   "source": [
    "from random import randint\n",
    "\n",
    "def generateRandomNumber(start=0, end=100000):\n",
    "    print('Random number -> ',randint(start,end))"
   ]
  },
  {
   "cell_type": "code",
   "execution_count": 22,
   "id": "ee6c3c42",
   "metadata": {},
   "outputs": [
    {
     "name": "stdout",
     "output_type": "stream",
     "text": [
      "Random number ->  3578\n"
     ]
    }
   ],
   "source": [
    "generateRandomNumber(0,5000)"
   ]
  },
  {
   "cell_type": "code",
   "execution_count": null,
   "id": "601356b6",
   "metadata": {},
   "outputs": [],
   "source": []
  }
 ],
 "metadata": {
  "kernelspec": {
   "display_name": "Python 3 (ipykernel)",
   "language": "python",
   "name": "python3"
  },
  "language_info": {
   "codemirror_mode": {
    "name": "ipython",
    "version": 3
   },
   "file_extension": ".py",
   "mimetype": "text/x-python",
   "name": "python",
   "nbconvert_exporter": "python",
   "pygments_lexer": "ipython3",
   "version": "3.9.13"
  }
 },
 "nbformat": 4,
 "nbformat_minor": 5
}
