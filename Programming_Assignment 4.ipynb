{
 "cells": [
  {
   "cell_type": "markdown",
   "id": "7fac12ed",
   "metadata": {},
   "source": [
    "1.Write a Python Program to find the factorial of a number ?"
   ]
  },
  {
   "cell_type": "code",
   "execution_count": 1,
   "id": "8809f083",
   "metadata": {},
   "outputs": [
    {
     "name": "stdout",
     "output_type": "stream",
     "text": [
      "enter a number:10\n",
      "the factorial of  10  is 3628800\n"
     ]
    }
   ],
   "source": [
    "num= int(input(\"enter a number:\"))\n",
    "factorial=1\n",
    "for i in range(1,num+1):\n",
    "    factorial= factorial*i\n",
    "print(\"the factorial of \",num,\" is\",factorial )"
   ]
  },
  {
   "cell_type": "markdown",
   "id": "d064742e",
   "metadata": {},
   "source": [
    "2.Write a Python Program to display the multiplication table ?"
   ]
  },
  {
   "cell_type": "code",
   "execution_count": 9,
   "id": "6ce88e89",
   "metadata": {},
   "outputs": [
    {
     "name": "stdout",
     "output_type": "stream",
     "text": [
      "10 X 1 = 10\n",
      "10 X 2 = 20\n",
      "10 X 3 = 30\n",
      "10 X 4 = 40\n",
      "10 X 5 = 50\n",
      "10 X 6 = 60\n",
      "10 X 7 = 70\n",
      "10 X 8 = 80\n",
      "10 X 9 = 90\n",
      "10 X 10 = 100\n",
      "10 X 11 = 110\n",
      "10 X 12 = 120\n",
      "10 X 13 = 130\n",
      "10 X 14 = 140\n",
      "10 X 15 = 150\n",
      "10 X 16 = 160\n",
      "10 X 17 = 170\n",
      "10 X 18 = 180\n",
      "10 X 19 = 190\n",
      "10 X 20 = 200\n"
     ]
    }
   ],
   "source": [
    "def generateTable(num,entries):\n",
    "    for x in range(1,entries+1):\n",
    "        print(f'{num} X {x} = {num*x}')\n",
    "generateTable(10,20)\n"
   ]
  },
  {
   "cell_type": "markdown",
   "id": "131f698d",
   "metadata": {},
   "source": [
    "\n",
    "3.Write a Python Program to print the fibonacci sequence ?"
   ]
  },
  {
   "cell_type": "code",
   "execution_count": 10,
   "id": "4c95078b",
   "metadata": {},
   "outputs": [
    {
     "name": "stdout",
     "output_type": "stream",
     "text": [
      "how many terms you want to print?:13\n",
      "the fibonacci sequence of the number is:\n",
      "0\n",
      "1\n",
      "1\n",
      "2\n",
      "3\n",
      "5\n",
      "8\n",
      "13\n",
      "21\n",
      "34\n",
      "55\n",
      "89\n",
      "144\n"
     ]
    }
   ],
   "source": [
    "nterms=int(input(\"how many terms you want to print?:\"))\n",
    "\n",
    "n1=0\n",
    "n2=1\n",
    "\n",
    "count=0\n",
    "\n",
    "if nterms<=0:\n",
    "    print(\"Please enter a psitive integer, the given number is not valid\")\n",
    "elif nterms==1:\n",
    "    print(\"the fibonacci sequence is upto \",nterms)\n",
    "else:\n",
    "    print(\"the fibonacci sequence of the number is:\")\n",
    "    while count < nterms:\n",
    "        print(n1)\n",
    "        nth= n1+n2\n",
    "        n1=n2\n",
    "        n2=nth\n",
    "        count+=1"
   ]
  },
  {
   "cell_type": "markdown",
   "id": "5a2feedf",
   "metadata": {},
   "source": [
    "4.Write a Python Program to check Armstrong number ?"
   ]
  },
  {
   "cell_type": "code",
   "execution_count": 15,
   "id": "c42b91b2",
   "metadata": {},
   "outputs": [
    {
     "name": "stdout",
     "output_type": "stream",
     "text": [
      "Enter a number here:1634\n",
      "Given number is a Armstrong Number\n"
     ]
    }
   ],
   "source": [
    "number = int(input(\"Enter a number here:\"))\n",
    "digits= len(str(number))\n",
    "temp = number\n",
    "add_sum = 0\n",
    "while temp != 0:\n",
    "    k = temp % 10\n",
    "    add_sum += k**digits\n",
    "    temp = temp//10\n",
    "if add_sum == number:\n",
    "    print('Given number is a Armstrong Number')\n",
    "else:\n",
    "    print('Given number is not an Armstrong Number')\n",
    "\n"
   ]
  },
  {
   "cell_type": "markdown",
   "id": "98057f34",
   "metadata": {},
   "source": [
    "5.Write a Python Program to Find Armstrong number in an interval ?"
   ]
  },
  {
   "cell_type": "code",
   "execution_count": 2,
   "id": "da1879e5",
   "metadata": {},
   "outputs": [
    {
     "name": "stdout",
     "output_type": "stream",
     "text": [
      "Enter lower range: 100\n",
      "Enter upper range: 1000\n",
      "125\n",
      "153\n",
      "216\n",
      "370\n",
      "371\n",
      "407\n",
      "729\n"
     ]
    }
   ],
   "source": [
    "lower = int(input(\"Enter lower range: \"))\n",
    "upper = int(input(\"Enter upper range: \"))\n",
    "\n",
    "for num in range(lower,upper+1):\n",
    "    digits=len(str(num))\n",
    "    temp = num\n",
    "    add_sum = 0\n",
    "    while temp != 0:\n",
    "        k = temp % 10\n",
    "        add_sum += k**digits\n",
    "        temp = temp//10\n",
    "        if num==add_sum:\n",
    "            print(num)\n",
    "    "
   ]
  },
  {
   "cell_type": "markdown",
   "id": "a31de83d",
   "metadata": {},
   "source": [
    "6.Write a Python Program to sum of natural numbers ?"
   ]
  },
  {
   "cell_type": "code",
   "execution_count": 3,
   "id": "fd84d2c1",
   "metadata": {},
   "outputs": [
    {
     "name": "stdout",
     "output_type": "stream",
     "text": [
      "Enter a number:100\n",
      "Sum of {number} natural numbers is: 5050.0\n"
     ]
    }
   ],
   "source": [
    "number = int(input(\"Enter a number:\"))\n",
    "\n",
    "sum= number*((number+1)/2)\n",
    "\n",
    "print(\"Sum of {number} natural numbers is:\",sum)"
   ]
  },
  {
   "cell_type": "code",
   "execution_count": null,
   "id": "d5d348d0",
   "metadata": {},
   "outputs": [],
   "source": []
  }
 ],
 "metadata": {
  "kernelspec": {
   "display_name": "Python 3 (ipykernel)",
   "language": "python",
   "name": "python3"
  },
  "language_info": {
   "codemirror_mode": {
    "name": "ipython",
    "version": 3
   },
   "file_extension": ".py",
   "mimetype": "text/x-python",
   "name": "python",
   "nbconvert_exporter": "python",
   "pygments_lexer": "ipython3",
   "version": "3.9.13"
  }
 },
 "nbformat": 4,
 "nbformat_minor": 5
}
