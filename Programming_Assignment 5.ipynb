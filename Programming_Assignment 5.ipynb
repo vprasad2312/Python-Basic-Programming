{
 "cells": [
  {
   "cell_type": "markdown",
   "id": "b0b38a0e",
   "metadata": {},
   "source": [
    "1. Write a Python Program to find LCM ?"
   ]
  },
  {
   "cell_type": "code",
   "execution_count": 8,
   "id": "fa07bd2a",
   "metadata": {},
   "outputs": [
    {
     "name": "stdout",
     "output_type": "stream",
     "text": [
      "Enter first number: 4\n",
      "Enter second number: 6\n",
      "The L.C.M. of 4 and 6 is 12\n"
     ]
    }
   ],
   "source": [
    "def calculate_lcm(x,y):\n",
    "    if x>y:\n",
    "        z=x\n",
    "    else:\n",
    "        z=y\n",
    "    while True:\n",
    "        if((z %x==0)and (z %y==0)):\n",
    "            lcm=z\n",
    "            break\n",
    "        z+=1\n",
    "    return lcm\n",
    "\n",
    "num1 = int(input(\"Enter first number: \"))  \n",
    "num2 = int(input(\"Enter second number: \"))\n",
    "\n",
    "print(\"The L.C.M. of\", num1,\"and\", num2,\"is\", calculate_lcm(num1, num2))  \n",
    "\n",
    "\n"
   ]
  },
  {
   "cell_type": "markdown",
   "id": "c3899822",
   "metadata": {},
   "source": [
    "\n",
    "2. Write a Python Program to find HCF ?"
   ]
  },
  {
   "cell_type": "code",
   "execution_count": 12,
   "id": "242c7c97",
   "metadata": {},
   "outputs": [
    {
     "name": "stdout",
     "output_type": "stream",
     "text": [
      "Enter first number: 8\n",
      "Enter second number: 12\n",
      "The H.C.F. of 8 and 12 is 4\n"
     ]
    }
   ],
   "source": [
    "def calculate_hcf(x,y):\n",
    "    if x>y:\n",
    "        z=x\n",
    "    else:\n",
    "        z=y\n",
    "    for i in range(1,z+1):\n",
    "        if((x% i==0)and (y% i==0)):\n",
    "            hcf=i\n",
    "    return hcf\n",
    "     \n",
    "\n",
    "num1 = int(input(\"Enter first number: \"))  \n",
    "num2 = int(input(\"Enter second number: \"))\n",
    "\n",
    "print(\"The H.C.F. of\", num1,\"and\", num2,\"is\", calculate_hcf(num1, num2)) "
   ]
  },
  {
   "cell_type": "markdown",
   "id": "1b3cf715",
   "metadata": {},
   "source": [
    "3. Write a Python Program to Convert Decimal to Binary, Octal and Hexadecimal ?"
   ]
  },
  {
   "cell_type": "code",
   "execution_count": 17,
   "id": "7291be5b",
   "metadata": {},
   "outputs": [
    {
     "name": "stdout",
     "output_type": "stream",
     "text": [
      "Enter a Number: 2315468\n",
      "Binary Number:  0b1000110101010011001100\n",
      "Octal Number:  0o10652314\n",
      "Hexadecimal Number:  0x2354cc\n"
     ]
    }
   ],
   "source": [
    "num = int(input('Enter a Number: '))\n",
    "\n",
    "print(\"Binary Number: \", bin(num))\n",
    "print(\"Octal Number: \",oct(num))\n",
    "print(\"Hexadecimal Number: \",hex(num))"
   ]
  },
  {
   "cell_type": "markdown",
   "id": "ca88e345",
   "metadata": {},
   "source": [
    "4. Write a Python Program to Find the ASCII value of a Character ?"
   ]
  },
  {
   "cell_type": "code",
   "execution_count": 19,
   "id": "7df61aaa",
   "metadata": {},
   "outputs": [
    {
     "name": "stdout",
     "output_type": "stream",
     "text": [
      "Please enter a character: V\n",
      "The ASCII value of 'V' is  86\n"
     ]
    }
   ],
   "source": [
    "K = input(\"Please enter a character: \")    \n",
    "    \n",
    "print (\"The ASCII value of '\" + K + \"' is \", ord(K))  "
   ]
  },
  {
   "cell_type": "markdown",
   "id": "9e21550c",
   "metadata": {},
   "source": [
    "5. Write a Python Program to Make a Simple Calculator with 4 Basic Mathematical operations ?"
   ]
  },
  {
   "cell_type": "code",
   "execution_count": 23,
   "id": "31ee75cd",
   "metadata": {},
   "outputs": [
    {
     "name": "stdout",
     "output_type": "stream",
     "text": [
      "Please select the operation.\n",
      "a. Add\n",
      "b. Subtract\n",
      "c. Multiply\n",
      "d. Divide\n",
      "Please enter choice (a/ b/ c/ d): d\n",
      "Please enter the first number: 23\n",
      "Please enter the second number: 12\n",
      "1.9166666666666667\n"
     ]
    }
   ],
   "source": [
    "print (\"Please select the operation.\")    \n",
    "print (\"a. Add\")    \n",
    "print (\"b. Subtract\")    \n",
    "print (\"c. Multiply\")    \n",
    "print (\"d. Divide\")    \n",
    "    \n",
    "choice = input(\"Please enter choice (a/ b/ c/ d): \")    \n",
    "    \n",
    "num_1 = int (input (\"Please enter the first number: \"))    \n",
    "num_2 = int (input (\"Please enter the second number: \"))    \n",
    "    \n",
    "if choice == 'a':\n",
    "    print (num_1  +  num_2)    \n",
    "    \n",
    "elif choice == 'b':\n",
    "    print (num_1 -  num_2)    \n",
    "    \n",
    "elif choice == 'c':\n",
    "    print (num1  * num2)\n",
    "    \n",
    "elif choice == 'd':\n",
    "    print (num_1  /  num_2)    \n",
    "else:\n",
    "    print (\"This is an invalid input\")    "
   ]
  },
  {
   "cell_type": "code",
   "execution_count": null,
   "id": "eafd7090",
   "metadata": {},
   "outputs": [],
   "source": []
  }
 ],
 "metadata": {
  "kernelspec": {
   "display_name": "Python 3 (ipykernel)",
   "language": "python",
   "name": "python3"
  },
  "language_info": {
   "codemirror_mode": {
    "name": "ipython",
    "version": 3
   },
   "file_extension": ".py",
   "mimetype": "text/x-python",
   "name": "python",
   "nbconvert_exporter": "python",
   "pygments_lexer": "ipython3",
   "version": "3.9.13"
  }
 },
 "nbformat": 4,
 "nbformat_minor": 5
}
