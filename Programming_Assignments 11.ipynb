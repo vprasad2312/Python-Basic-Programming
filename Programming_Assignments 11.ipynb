{
 "cells": [
  {
   "cell_type": "markdown",
   "id": "cb50ad77",
   "metadata": {},
   "source": [
    "1. Write a Python program to find words which are greater than given length k ?"
   ]
  },
  {
   "cell_type": "code",
   "execution_count": 3,
   "id": "04b82958",
   "metadata": {
    "scrolled": true
   },
   "outputs": [
    {
     "name": "stdout",
     "output_type": "stream",
     "text": [
      "['This', 'programming', 'python', 'assignments']\n"
     ]
    }
   ],
   "source": [
    "def word_k(k,str):\n",
    "    word=[]\n",
    "    text=str.split()\n",
    "    for x in text:\n",
    "        if len(x)> k:\n",
    "            word.append(x)\n",
    "    return word\n",
    "\n",
    "\n",
    "k=3\n",
    "str=\"This is a programming for python assignments\"\n",
    "print(word_k(k,str))"
   ]
  },
  {
   "cell_type": "markdown",
   "id": "9dc70bb1",
   "metadata": {},
   "source": [
    "2. Write a Python program for removing i-th character from a string ?"
   ]
  },
  {
   "cell_type": "code",
   "execution_count": 7,
   "id": "c81ab28a",
   "metadata": {},
   "outputs": [
    {
     "name": "stdout",
     "output_type": "stream",
     "text": [
      "Enter a String =vivekprasad\n",
      "Enter the n-th index =3\n",
      "vivkprasad\n"
     ]
    }
   ],
   "source": [
    "def removechar(str1, n):\n",
    "    x = str1[ : n]\n",
    "    y = str1[n + 1: ]\n",
    "    return x + y\n",
    "\n",
    "str1 = input(\"Enter a String =\")\n",
    "n = int(input(\"Enter the n-th index =\"))\n",
    "\n",
    "\n",
    "print(removechar(str1, n))"
   ]
  },
  {
   "cell_type": "markdown",
   "id": "377daef1",
   "metadata": {},
   "source": [
    "3. Write a Python program to split and join a string ?"
   ]
  },
  {
   "cell_type": "code",
   "execution_count": 16,
   "id": "6caf23de",
   "metadata": {},
   "outputs": [
    {
     "name": "stdout",
     "output_type": "stream",
     "text": [
      "['This', 'is', 'a', 'programming', 'for', 'python', 'assignments']\n",
      "This-is-a-programming-for-python-assignments\n"
     ]
    }
   ],
   "source": [
    "String=\"This is a programming for python assignments\"\n",
    "separator=\"-\"\n",
    "splitting= String.split(\" \")\n",
    "joining = separator.join(splitting)\n",
    "print(splitting)\n",
    "print(joining)"
   ]
  },
  {
   "cell_type": "markdown",
   "id": "bf42b497",
   "metadata": {},
   "source": [
    "4. Write a Python to check if a given string is binary string or not ?"
   ]
  },
  {
   "cell_type": "code",
   "execution_count": 18,
   "id": "0a6bead2",
   "metadata": {},
   "outputs": [
    {
     "name": "stdout",
     "output_type": "stream",
     "text": [
      "StringA is a binary string.\n"
     ]
    }
   ],
   "source": [
    "stringA = '0110101010111'\n",
    "b = {'0','1'}\n",
    "t = set(stringA)\n",
    "\n",
    "if b == t or t == {'0'} or t == {'1'}:\n",
    "    print(\"StringA is a binary string.\")\n",
    "else:\n",
    "    print(\"StringA is not a binary string.\")"
   ]
  },
  {
   "cell_type": "markdown",
   "id": "b4e72682",
   "metadata": {},
   "source": [
    "5. Write a Python program to find uncommon words from two Strings ?"
   ]
  },
  {
   "cell_type": "code",
   "execution_count": 19,
   "id": "1f28e50b",
   "metadata": {},
   "outputs": [
    {
     "name": "stdout",
     "output_type": "stream",
     "text": [
      "['peach', 'mango']\n"
     ]
    }
   ],
   "source": [
    "def uncommon(s1,s2):\n",
    "    s1=s1.split()\n",
    "    s2=s2.split()\n",
    "    k=set(s1).symmetric_difference(set(s2))\n",
    "    return k\n",
    "\n",
    "a = \"berry mango cherry\"\n",
    "b = \"berry peach cherry\"\n",
    "print(list(uncommon(a,b)))"
   ]
  },
  {
   "cell_type": "markdown",
   "id": "f4b83a0d",
   "metadata": {},
   "source": [
    "6. Write a Python to find all duplicate characters in string"
   ]
  },
  {
   "cell_type": "code",
   "execution_count": 20,
   "id": "76c216a1",
   "metadata": {},
   "outputs": [
    {
     "name": "stdout",
     "output_type": "stream",
     "text": [
      "Enter the string: \"This is a programming for python assignments\"\n",
      "Duplicate characters are: ['s', 'g', 'o', 'h', 'i', 'm', ' ', 't', 'p', 'n', 'a', '\"', 'r']\n"
     ]
    }
   ],
   "source": [
    "def duplicateChars():\n",
    "    in_string = input('Enter the string: ')\n",
    "    non_duplicate_list = []\n",
    "    duplicate_list = []\n",
    "    for ele in in_string:\n",
    "        if ele not in non_duplicate_list:\n",
    "            non_duplicate_list.append(ele)\n",
    "        else:\n",
    "            duplicate_list.append(ele)\n",
    "    print(f'Duplicate characters are: {list(set(duplicate_list))}')\n",
    "        \n",
    "duplicateChars()"
   ]
  },
  {
   "cell_type": "markdown",
   "id": "34638c52",
   "metadata": {},
   "source": [
    "7. Write a Python Program to check if a string contains any special character?"
   ]
  },
  {
   "cell_type": "code",
   "execution_count": 25,
   "id": "a6f620e8",
   "metadata": {},
   "outputs": [
    {
     "name": "stdout",
     "output_type": "stream",
     "text": [
      "String contains special characters\n"
     ]
    }
   ],
   "source": [
    "n= \"vprasad2312@gmail.com\"\n",
    "n.split()\n",
    "c=0\n",
    "s = '[@_!#$%^&*()<>?/\\|}{~:]'\n",
    "for i in range(len(n)):\n",
    "    if n[i] in s:\n",
    "        c+=1\n",
    "        \n",
    "if c:\n",
    "    print('String contains special characters')\n",
    "else:\n",
    "    print(\"string does not contain special characters\")"
   ]
  },
  {
   "cell_type": "code",
   "execution_count": null,
   "id": "fe51c722",
   "metadata": {},
   "outputs": [],
   "source": []
  }
 ],
 "metadata": {
  "kernelspec": {
   "display_name": "Python 3 (ipykernel)",
   "language": "python",
   "name": "python3"
  },
  "language_info": {
   "codemirror_mode": {
    "name": "ipython",
    "version": 3
   },
   "file_extension": ".py",
   "mimetype": "text/x-python",
   "name": "python",
   "nbconvert_exporter": "python",
   "pygments_lexer": "ipython3",
   "version": "3.9.13"
  }
 },
 "nbformat": 4,
 "nbformat_minor": 5
}
