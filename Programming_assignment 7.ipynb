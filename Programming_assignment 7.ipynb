{
 "cells": [
  {
   "cell_type": "markdown",
   "id": "164baf93",
   "metadata": {},
   "source": [
    "1. Write a Python Program to find sum of Array ?"
   ]
  },
  {
   "cell_type": "code",
   "execution_count": 19,
   "id": "702a3418",
   "metadata": {},
   "outputs": [
    {
     "name": "stdout",
     "output_type": "stream",
     "text": [
      "Sum of all the elements of an array:  15\n"
     ]
    }
   ],
   "source": [
    "arr= [1,2,3,4,5]\n",
    "Sum=0\n",
    "\n",
    "for i in range(0,len(arr)):\n",
    "    Sum = Sum +arr[i]\n",
    "\n",
    "    \n",
    "print(\"Sum of all the elements of an array: \",Sum)"
   ]
  },
  {
   "cell_type": "markdown",
   "id": "0a7defe3",
   "metadata": {},
   "source": [
    "2. Write a Python Program to find Largest element in an Array ?"
   ]
  },
  {
   "cell_type": "code",
   "execution_count": 21,
   "id": "2a77dcbd",
   "metadata": {},
   "outputs": [
    {
     "name": "stdout",
     "output_type": "stream",
     "text": [
      "5\n"
     ]
    }
   ],
   "source": [
    "arr= [1,2,3,4,5]\n",
    "Max=0\n",
    "\n",
    "for i in range(0,len(arr)):\n",
    "    if arr[i]> Max:\n",
    "        Max=arr[i]\n",
    "\n",
    "    \n",
    "print(Max)"
   ]
  },
  {
   "cell_type": "markdown",
   "id": "51bd7d04",
   "metadata": {},
   "source": [
    "3. Write a Python Program for array rotation ?"
   ]
  },
  {
   "cell_type": "code",
   "execution_count": 32,
   "id": "07166f0e",
   "metadata": {},
   "outputs": [
    {
     "name": "stdout",
     "output_type": "stream",
     "text": [
      "Array after left rotation is:  [3, 4, 5, 6, 7, 1, 2]\n"
     ]
    }
   ],
   "source": [
    "def rotateArray(a,d):\n",
    "    temp = []\n",
    "    n=len(a)\n",
    "    for i in range(d,n):\n",
    "        temp.append(a[i])\n",
    "    i = 0\n",
    "    for i in range (0,d):\n",
    "        temp.append(a[i])\n",
    "    a=temp.copy()\n",
    "    return a\n",
    " \n",
    "arr = [1, 2, 3, 4, 5, 6, 7]\n",
    "print(\"Array after left rotation is: \", end=' ')\n",
    "print(rotateArray(arr, 2))"
   ]
  },
  {
   "cell_type": "markdown",
   "id": "3e497c84",
   "metadata": {},
   "source": [
    "4. Write a Python Program to Split the array and add the first part to the end ?"
   ]
  },
  {
   "cell_type": "code",
   "execution_count": 38,
   "id": "9bfb1dc3",
   "metadata": {},
   "outputs": [
    {
     "name": "stdout",
     "output_type": "stream",
     "text": [
      "3 4 5 6 1 2 2 "
     ]
    }
   ],
   "source": [
    "def SplitArray(arr, n, k):\n",
    "    for i in range(0, k):\n",
    "        x = arr[0]\n",
    "        for j in range(0, n-1):\n",
    "            arr[j] = arr[j + 1]\n",
    "            arr[n-1] = x\n",
    "            \n",
    "arr = [1, 2, 3, 4, 5, 6,7]\n",
    "n = len(arr)\n",
    "position = 2\n",
    "SplitArray(arr, n, position)\n",
    "for i in range(0, n):\n",
    "    print(arr[i], end = ' ')"
   ]
  },
  {
   "cell_type": "markdown",
   "id": "e415a673",
   "metadata": {},
   "source": [
    "5. Write a Python Program to check if given array is Monotonic ?"
   ]
  },
  {
   "cell_type": "code",
   "execution_count": 39,
   "id": "ce9db44a",
   "metadata": {},
   "outputs": [
    {
     "name": "stdout",
     "output_type": "stream",
     "text": [
      "Enter the Array: [1,2,3,4,5]\n",
      "Array [1, 2, 3, 4, 5] is Monotonic\n",
      "Enter the Array: [4,3,5,8,9]\n",
      "Array [4, 3, 5, 8, 9] is Not Monotonic\n"
     ]
    }
   ],
   "source": [
    "def checkMonotonic():\n",
    "    in_arr = eval(input(\"Enter the Array: \"))\n",
    "    if(all(in_arr[i]<=in_arr[i+1] for i in range(len(in_arr)-1)) or all(in_arr[i]>=in_arr[i+1] for i in range(len(in_arr)-1))):\n",
    "        print(f'Array {in_arr} is Monotonic')\n",
    "    else:\n",
    "        print(f'Array {in_arr} is Not Monotonic')\n",
    "\n",
    "checkMonotonic()\n",
    "checkMonotonic()"
   ]
  },
  {
   "cell_type": "code",
   "execution_count": null,
   "id": "a722668c",
   "metadata": {},
   "outputs": [],
   "source": []
  }
 ],
 "metadata": {
  "kernelspec": {
   "display_name": "Python 3 (ipykernel)",
   "language": "python",
   "name": "python3"
  },
  "language_info": {
   "codemirror_mode": {
    "name": "ipython",
    "version": 3
   },
   "file_extension": ".py",
   "mimetype": "text/x-python",
   "name": "python",
   "nbconvert_exporter": "python",
   "pygments_lexer": "ipython3",
   "version": "3.9.13"
  }
 },
 "nbformat": 4,
 "nbformat_minor": 5
}
