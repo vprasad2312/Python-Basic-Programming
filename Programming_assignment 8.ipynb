{
 "cells": [
  {
   "cell_type": "markdown",
   "id": "9c628089",
   "metadata": {},
   "source": [
    "1. Write a Python Program to Add two Matrices ?"
   ]
  },
  {
   "cell_type": "code",
   "execution_count": 4,
   "id": "69447c8e",
   "metadata": {},
   "outputs": [
    {
     "name": "stdout",
     "output_type": "stream",
     "text": [
      "[11, 13, 15]\n",
      "[17, 19, 21]\n",
      "[23, 25, 27]\n"
     ]
    }
   ],
   "source": [
    "x=[[1,2,3],[4,5,6],[7,8,9]]\n",
    "y=[[10,11,12],[13,14,15],[16,17,18]]\n",
    "result=[[0,0,0],[0,0,0],[0,0,0]]\n",
    "\n",
    "for i in range(len(x)):\n",
    "    for j in range(len(x[0])):\n",
    "        result[i][j]= x[i][j]+ y[i][j]\n",
    "for r in result:\n",
    "    print(r)"
   ]
  },
  {
   "cell_type": "markdown",
   "id": "11a991a9",
   "metadata": {},
   "source": [
    "2. Write a Python Program to Multiply two Matrices ?"
   ]
  },
  {
   "cell_type": "code",
   "execution_count": 15,
   "id": "7e54cab5",
   "metadata": {},
   "outputs": [
    {
     "name": "stdout",
     "output_type": "stream",
     "text": [
      "The multiplication result of matrix x and y is:\n",
      "[45, 48, 51]\n",
      "[54, 57, 60]\n",
      "[63, 66, 69]\n"
     ]
    }
   ],
   "source": [
    "x=[[1,2,3],[4,5,6],[7,8,9]]\n",
    "y=[[10,11,12],[13,14,15],[16,17,18]]\n",
    "result=[[0,0,0],[0,0,0],[0,0,0]]\n",
    "\n",
    "for m in range(len(x)):\n",
    "    for n in range(len(y[0])):\n",
    "        for o in range(len(y)):\n",
    "            result[m][n] += x[m][o] + y[o][n]\n",
    "print(\"The multiplication result of matrix x and y is:\")\n",
    "for r in result:\n",
    "    print(r)"
   ]
  },
  {
   "cell_type": "markdown",
   "id": "72669fa7",
   "metadata": {},
   "source": [
    "3. Write a Python Program to transpose a Matrix ?"
   ]
  },
  {
   "cell_type": "code",
   "execution_count": 1,
   "id": "f62ecc09",
   "metadata": {},
   "outputs": [
    {
     "name": "stdout",
     "output_type": "stream",
     "text": [
      "The transpose of matrix A is: \n",
      "[5, 2, 4, 8]\n",
      "[4, 4, 7, 1]\n",
      "[3, 6, 9, 3]\n"
     ]
    }
   ],
   "source": [
    "A = [[5, 4, 3], [2, 4, 6], [4, 7, 9], [8, 1, 3]]  \n",
    "\n",
    "transResult = [[0, 0, 0, 0],[0, 0, 0, 0],[0, 0, 0, 0]]  \n",
    "\n",
    "for a in range(len(A)):\n",
    "    for b in range(len(A[0])):\n",
    "        transResult[b][a] = A[a][b]\n",
    "        \n",
    "print(\"The transpose of matrix A is: \")  \n",
    "for res in transResult:\n",
    "    print(res)  "
   ]
  },
  {
   "cell_type": "markdown",
   "id": "55880423",
   "metadata": {},
   "source": [
    "4. Write a Python Program to sort Words in an Alphabatical Order ?|"
   ]
  },
  {
   "cell_type": "code",
   "execution_count": 5,
   "id": "ea224fc4",
   "metadata": {},
   "outputs": [
    {
     "name": "stdout",
     "output_type": "stream",
     "text": [
      "Alphabatical\n",
      "Order\n",
      "Program\n",
      "Python\n",
      "Words\n",
      "Write\n",
      "a\n",
      "an\n",
      "in\n",
      "sort\n",
      "to\n"
     ]
    }
   ],
   "source": [
    "string= \"Write a Python Program to sort Words in an Alphabatical Order\"\n",
    "words=string.split()\n",
    "words.sort()\n",
    "for word in words:\n",
    "    print(word)"
   ]
  },
  {
   "cell_type": "markdown",
   "id": "05219896",
   "metadata": {},
   "source": [
    "5. Write a Python Program to remove Punctuations From a String ?"
   ]
  },
  {
   "cell_type": "code",
   "execution_count": 6,
   "id": "a623bed9",
   "metadata": {},
   "outputs": [
    {
     "name": "stdout",
     "output_type": "stream",
     "text": [
      "Hello This is an encrypted  keyword\n"
     ]
    }
   ],
   "source": [
    "punctuations=\"\"\"!()[]{}:;|\\<>,.?/!@#$%^&*~`\"\"\"\n",
    "\n",
    "string= \"Hello.... This is an encrypted (!@#$%^&*) keyword\"\n",
    "\n",
    "no_punct=\"\"\n",
    "for char in string:\n",
    "    if char not in punctuations:\n",
    "        no_punct= no_punct+char\n",
    "        \n",
    "print(no_punct)\n"
   ]
  },
  {
   "cell_type": "code",
   "execution_count": null,
   "id": "16a4363c",
   "metadata": {},
   "outputs": [],
   "source": []
  }
 ],
 "metadata": {
  "kernelspec": {
   "display_name": "Python 3 (ipykernel)",
   "language": "python",
   "name": "python3"
  },
  "language_info": {
   "codemirror_mode": {
    "name": "ipython",
    "version": 3
   },
   "file_extension": ".py",
   "mimetype": "text/x-python",
   "name": "python",
   "nbconvert_exporter": "python",
   "pygments_lexer": "ipython3",
   "version": "3.9.13"
  }
 },
 "nbformat": 4,
 "nbformat_minor": 5
}
