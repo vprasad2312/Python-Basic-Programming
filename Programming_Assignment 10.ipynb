{
 "cells": [
  {
   "cell_type": "markdown",
   "id": "df35bf4c",
   "metadata": {},
   "source": [
    "1.Write a Python Program to find sum of elements in a list ?"
   ]
  },
  {
   "cell_type": "code",
   "execution_count": 1,
   "id": "2e408e08",
   "metadata": {},
   "outputs": [
    {
     "name": "stdout",
     "output_type": "stream",
     "text": [
      "Enter the No of Entries in a List: 5\n",
      "Enter a element: 1\n",
      "Enter a element: 2\n",
      "Enter a element: 3\n",
      "Enter a element: 4\n",
      "Enter a element: 5\n",
      "Sum of Elements: 15\n"
     ]
    }
   ],
   "source": [
    "def sumofList():\n",
    "    in_ele = int(input('Enter the No of Entries in a List: '))\n",
    "    in_list = []\n",
    "    for itr in range(in_ele):\n",
    "        in_list.append(int(input('Enter a element: ')))\n",
    "    print(f'Sum of Elements: {sum(in_list)}')\n",
    "    \n",
    "sumofList()\n"
   ]
  },
  {
   "cell_type": "markdown",
   "id": "574e7c90",
   "metadata": {},
   "source": [
    "2.Write a Python Program to multiply all numbers in the list ?"
   ]
  },
  {
   "cell_type": "code",
   "execution_count": 2,
   "id": "5c108189",
   "metadata": {},
   "outputs": [
    {
     "name": "stdout",
     "output_type": "stream",
     "text": [
      "120\n"
     ]
    }
   ],
   "source": [
    "def multiply_list(mylist):\n",
    "    result= 1\n",
    "    for x in mylist:\n",
    "        result=result*x\n",
    "    return result\n",
    "\n",
    "list1=[1,2,3,4,5]\n",
    "print(multiply_list(list1))"
   ]
  },
  {
   "cell_type": "markdown",
   "id": "a78220fd",
   "metadata": {},
   "source": [
    "3.Write a Python Program to find smallest number in the list ?"
   ]
  },
  {
   "cell_type": "code",
   "execution_count": 3,
   "id": "e5a377c1",
   "metadata": {},
   "outputs": [
    {
     "name": "stdout",
     "output_type": "stream",
     "text": [
      "Smallest number in the list is:  1\n"
     ]
    }
   ],
   "source": [
    "list=[1,2,3,4,5]\n",
    "smallest= min(list)\n",
    "print(\"Smallest number in the list is: \",smallest)"
   ]
  },
  {
   "cell_type": "markdown",
   "id": "7effab2a",
   "metadata": {},
   "source": [
    "4.Write a Python Program to find largest number in the list ?"
   ]
  },
  {
   "cell_type": "code",
   "execution_count": 5,
   "id": "2466eb3b",
   "metadata": {},
   "outputs": [
    {
     "name": "stdout",
     "output_type": "stream",
     "text": [
      "Highest number in the list is:  5\n"
     ]
    }
   ],
   "source": [
    "list=[1,2,3,4,5]\n",
    "highest= max(list)\n",
    "print(\"Highest number in the list is: \",highest)"
   ]
  },
  {
   "cell_type": "markdown",
   "id": "acd1f496",
   "metadata": {},
   "source": [
    "5.Write a Python Program to find second largest number in the list ?"
   ]
  },
  {
   "cell_type": "code",
   "execution_count": 7,
   "id": "b8c54da7",
   "metadata": {},
   "outputs": [
    {
     "name": "stdout",
     "output_type": "stream",
     "text": [
      "Enter number of elements:5\n",
      "Enter element:50\n",
      "Enter element:40\n",
      "Enter element:30\n",
      "Enter element:20\n",
      "Enter element:10\n",
      "Second largest element is: 40\n"
     ]
    }
   ],
   "source": [
    "a=[]\n",
    "n=int(input(\"Enter number of elements:\"))\n",
    "for i in range(1,n+1):\n",
    "    b=int(input(\"Enter element:\"))\n",
    "    a.append(b)\n",
    "a.sort()\n",
    "print(\"Second largest element is:\",a[n-2])"
   ]
  },
  {
   "cell_type": "code",
   "execution_count": 9,
   "id": "a45661e2",
   "metadata": {},
   "outputs": [
    {
     "name": "stdout",
     "output_type": "stream",
     "text": [
      "[10, 20, 30, 40, 50]\n"
     ]
    }
   ],
   "source": [
    "l=[50,40,30,20,10]\n",
    "l.sort()\n",
    "print(l)"
   ]
  },
  {
   "cell_type": "code",
   "execution_count": 13,
   "id": "ccd67880",
   "metadata": {},
   "outputs": [
    {
     "name": "stdout",
     "output_type": "stream",
     "text": [
      "Enter number of elements:7\n",
      "Enter element:1000\n",
      "Enter element:298\n",
      "Enter element:3759\n",
      "Enter element:100\n",
      "Enter element:200\n",
      "Enter element:45\n",
      "Enter element:900\n",
      "N largest element is: [298, 900, 1000, 3759]\n"
     ]
    }
   ],
   "source": [
    "a=[]\n",
    "n=int(input(\"Enter number of elements:\"))\n",
    "for i in range(1,n+1):\n",
    "    b=int(input(\"Enter element:\"))\n",
    "    n=4\n",
    "    a.append(b)\n",
    "a.sort()\n",
    "print(\"N largest element is:\",a[-n:])"
   ]
  },
  {
   "cell_type": "markdown",
   "id": "f3fbb46c",
   "metadata": {},
   "source": [
    "7.Write a Python Program to find even numbers in the list ?"
   ]
  },
  {
   "cell_type": "code",
   "execution_count": 16,
   "id": "d118eedd",
   "metadata": {},
   "outputs": [
    {
     "name": "stdout",
     "output_type": "stream",
     "text": [
      "20 58 "
     ]
    }
   ],
   "source": [
    "def evens(nums_list):\n",
    "    for num in nums_list:\n",
    "        if num % 2 == 0:\n",
    "            print(num, end=' ')\n",
    "\n",
    "evens([5, 20, 21, 58, 3])"
   ]
  },
  {
   "cell_type": "markdown",
   "id": "251de7ec",
   "metadata": {},
   "source": [
    "8.Write a Python Program to find odd numbers in the list ?"
   ]
  },
  {
   "cell_type": "code",
   "execution_count": 17,
   "id": "2debd6c6",
   "metadata": {},
   "outputs": [
    {
     "name": "stdout",
     "output_type": "stream",
     "text": [
      "5 21 3 "
     ]
    }
   ],
   "source": [
    "def odds(nums_list):\n",
    "    for num in nums_list:\n",
    "        if num % 2 != 0:\n",
    "            print(num, end=' ')\n",
    "\n",
    "odds([5, 20, 21, 58, 3])"
   ]
  },
  {
   "cell_type": "markdown",
   "id": "a690aada",
   "metadata": {},
   "source": [
    "9.Write a Python Program to remove empty list from list ?"
   ]
  },
  {
   "cell_type": "code",
   "execution_count": 34,
   "id": "14142ac8",
   "metadata": {},
   "outputs": [
    {
     "name": "stdout",
     "output_type": "stream",
     "text": [
      "Original list:\n",
      "[[], [], [], 'Red', 'Green', [1, 2], 'Blue', [], []]\n",
      "\n",
      "After deleting the empty lists from the said lists of lists\n",
      "['Red', 'Green', [1, 2], 'Blue']\n"
     ]
    }
   ],
   "source": [
    "list1 = [[], [], [], 'Red', 'Green', [1,2], 'Blue', [], []]\n",
    "print(\"Original list:\")\n",
    "print(list1)\n",
    "print(\"\\nAfter deleting the empty lists from the said lists of lists\")\n",
    "list2 = [x for x in list1 if x]\n",
    "print(list2)"
   ]
  },
  {
   "cell_type": "markdown",
   "id": "4928ad7d",
   "metadata": {},
   "source": [
    "10.Write a Python Program to Cloning or Copying a list ?"
   ]
  },
  {
   "cell_type": "code",
   "execution_count": 35,
   "id": "dc68d5ef",
   "metadata": {},
   "outputs": [
    {
     "name": "stdout",
     "output_type": "stream",
     "text": [
      "Enter size of list 6\n",
      "Enter element of list 12\n",
      "Enter element of list 13\n",
      "Enter element of list 14\n",
      "Enter element of list 15\n",
      "Enter element of list 16\n",
      "Enter element of list 17\n",
      "Original list:  [12, 13, 14, 15, 16, 17]\n",
      "After cloning:  [12, 13, 14, 15, 16, 17]\n"
     ]
    }
   ],
   "source": [
    "li=[]\n",
    "n=int(input(\"Enter size of list \"))\n",
    "for i in range(0,n):\n",
    "    e=int(input(\"Enter element of list \"))\n",
    "    li.append(e)\n",
    "print(\"Original list: \",li)\n",
    "\n",
    "\n",
    "list_copy = []\n",
    "list_copy.extend(li)\n",
    "print(\"After cloning: \",list_copy)"
   ]
  },
  {
   "cell_type": "markdown",
   "id": "4924150b",
   "metadata": {},
   "source": [
    "11.Write a Python Program to count occurences of an element in a list ?"
   ]
  },
  {
   "cell_type": "code",
   "execution_count": 36,
   "id": "c05a521f",
   "metadata": {},
   "outputs": [
    {
     "name": "stdout",
     "output_type": "stream",
     "text": [
      "2\n"
     ]
    }
   ],
   "source": [
    "list=[1,2,3,4,1,3,5]\n",
    "print(list.count(3))"
   ]
  },
  {
   "cell_type": "code",
   "execution_count": null,
   "id": "021ce544",
   "metadata": {},
   "outputs": [],
   "source": []
  }
 ],
 "metadata": {
  "kernelspec": {
   "display_name": "Python 3 (ipykernel)",
   "language": "python",
   "name": "python3"
  },
  "language_info": {
   "codemirror_mode": {
    "name": "ipython",
    "version": 3
   },
   "file_extension": ".py",
   "mimetype": "text/x-python",
   "name": "python",
   "nbconvert_exporter": "python",
   "pygments_lexer": "ipython3",
   "version": "3.9.13"
  }
 },
 "nbformat": 4,
 "nbformat_minor": 5
}
